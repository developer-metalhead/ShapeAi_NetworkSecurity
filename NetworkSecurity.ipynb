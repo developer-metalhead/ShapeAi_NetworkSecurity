{
  "nbformat": 4,
  "nbformat_minor": 0,
  "metadata": {
    "colab": {
      "name": "NetworkSecurity.ipynb",
      "provenance": [],
      "authorship_tag": "ABX9TyPbCkZRMl9JTrKdm8zoc1sG",
      "include_colab_link": true
    },
    "kernelspec": {
      "name": "python3",
      "display_name": "Python 3"
    },
    "language_info": {
      "name": "python"
    }
  },
  "cells": [
    {
      "cell_type": "markdown",
      "metadata": {
        "id": "view-in-github",
        "colab_type": "text"
      },
      "source": [
        "<a href=\"https://colab.research.google.com/github/developer-metalhead/ShapeAi_NetworkSecurity/blob/main/NetworkSecurity.ipynb\" target=\"_parent\"><img src=\"https://colab.research.google.com/assets/colab-badge.svg\" alt=\"Open In Colab\"/></a>"
      ]
    },
    {
      "cell_type": "code",
      "metadata": {
        "colab": {
          "base_uri": "https://localhost:8080/"
        },
        "id": "3henOZ7eRPLc",
        "outputId": "7308a543-383a-4e66-e526-a5fe970482f0"
      },
      "source": [
        "import hashlib       # imports hashlib package to perform md5 encryption\n",
        "\n",
        "hashing = input(\"Enter the string to md5 hash:- \")       # accepts the string from user to be hashed\n",
        "hashed = hashlib.md5(hashing.encode())       # hashing the string \n",
        "print(\"Byte equivalent of hash is : \", hashed.digest())       # prints the Byte Equivalent of Hash\n",
        "print(\"Hexadecimal equivalent of hash is : \", hashed.hexdigest())       # prints the Hexadecimal Equivalent of Hash"
      ],
      "execution_count": 1,
      "outputs": [
        {
          "output_type": "stream",
          "text": [
            "Enter the string to md5 hash:- Satwik\n",
            "Byte equivalent of hash is :  b'\\x16\\x92gp\\xf4\\xd3\\xaa\\xbba\\xf2\\xbeK\\xe8\\x14\\x01\\x9f'\n",
            "Hexadecimal equivalent of hash is :  16926770f4d3aabb61f2be4be814019f\n"
          ],
          "name": "stdout"
        }
      ]
    }
  ]
}